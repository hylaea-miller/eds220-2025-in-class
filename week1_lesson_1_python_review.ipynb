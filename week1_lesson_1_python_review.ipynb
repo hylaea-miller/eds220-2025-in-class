{
 "cells": [
  {
   "cell_type": "markdown",
   "id": "f44420ad-f1e9-486e-990b-505b0efd115a",
   "metadata": {},
   "source": [
    "# Python review\n",
    "\n",
    "Goals:\n",
    "- recall basic Python vocabulary\n",
    "- Practice markdown\n",
    "\n",
    "## Libraries and Packages\n",
    "\n",
    "**library**: A collection of code that we can use to perform specifc tasks in our programs.\n",
    "\n",
    "**Numpy**: \n",
    "- core library for numerical computing in Pythin\n",
    "- many other libraries use Numpy arrays as building blocks\n",
    "- computions on NumPy are optiomized for speed and memory usage"
   ]
  },
  {
   "cell_type": "code",
   "execution_count": 1,
   "id": "738aee80-15e3-4d99-b008-de03d2941411",
   "metadata": {
    "tags": []
   },
   "outputs": [],
   "source": [
    "import numpy as np"
   ]
  },
  {
   "cell_type": "code",
   "execution_count": 2,
   "id": "903608dd-3255-4189-acf4-294d0ed050e0",
   "metadata": {
    "tags": []
   },
   "outputs": [],
   "source": [
    "# Assign a small array to a variable a\n",
    "a = np.array([[1,1,2], [3,5,8]])"
   ]
  },
  {
   "cell_type": "code",
   "execution_count": 3,
   "id": "ee758d0f-82e1-4a88-9bbc-d03ffeb4bbc5",
   "metadata": {
    "tags": []
   },
   "outputs": [
    {
     "data": {
      "text/plain": [
       "array([[1, 1, 2],\n",
       "       [3, 5, 8]])"
      ]
     },
     "execution_count": 3,
     "metadata": {},
     "output_type": "execute_result"
    }
   ],
   "source": [
    "# Run cell with the variable name to show value\n",
    "a"
   ]
  },
  {
   "cell_type": "code",
   "execution_count": 4,
   "id": "e89f30ab-dbc1-47e1-befe-035da5af8884",
   "metadata": {
    "tags": []
   },
   "outputs": [
    {
     "name": "stdout",
     "output_type": "stream",
     "text": [
      "[[1 1 2]\n",
      " [3 5 8]]\n"
     ]
    }
   ],
   "source": [
    "# Use `print`function to print value\n",
    "print(a)"
   ]
  },
  {
   "cell_type": "markdown",
   "id": "419e26f5-16ca-4729-b17b-09395d6473b8",
   "metadata": {},
   "source": [
    "## Objects\n",
    "\n",
    "*object** (informaly speaking) is a bundle of proporties and actions about something specific.\n",
    "Example:\n",
    "Object: data frame\n",
    "Properties: Number rows, names of the columns, date created\n",
    "Actions: selecting a specifc row, adding a new column\n",
    "A variable id the name we give a specific object, and the same object can be referenced by different variable.\n",
    "In practice, we can often use variables and objects interchangeably\n"
   ]
  },
  {
   "cell_type": "code",
   "execution_count": null,
   "id": "0fe9781d-24a3-4ddb-9593-17fb8fd309f1",
   "metadata": {},
   "outputs": [],
   "source": []
  },
  {
   "cell_type": "code",
   "execution_count": 5,
   "id": "69a9d2b2",
   "metadata": {},
   "outputs": [],
   "source": [
    "# Check the type/class of a variable/object by using `type`function\n",
    "\n"
   ]
  },
  {
   "cell_type": "code",
   "execution_count": 6,
   "id": "0f141dce",
   "metadata": {},
   "outputs": [
    {
     "data": {
      "text/plain": [
       "numpy.int64"
      ]
     },
     "execution_count": 6,
     "metadata": {},
     "output_type": "execute_result"
    }
   ],
   "source": [
    "# Check the type on an entry on the array by indexing\n",
    "type(a[0,0])"
   ]
  },
  {
   "cell_type": "markdown",
   "id": "c8832b73",
   "metadata": {},
   "source": [
    "This information is a **docstring**\n",
    "\n",
    "A function has two types of arguments:\n",
    "\n",
    "- ** non-optional argumet**: arguments *you* need to specify for the function to so something\n",
    "- **optional argument**: arguments that are pre-filled with a defauld value by the function\n",
    "\n"
   ]
  },
  {
   "cell_type": "markdown",
   "id": "61741ad4",
   "metadata": {},
   "source": [
    "## Atributes & methods \n",
    "\n",
    "An object in Python has attibutes.\n",
    "\n",
    "-**attribute**: a property of an object, some piece of information about it\n",
    "-**method**: a procedure associated with the object, an action where the main ingredient is the object.\n",
    "\n",
    "## Check-in\n",
    "\n",
    "Fish attributes:\n",
    "\n",
    "-length, color, species\n",
    "-die(), bite(), swim()\n",
    "\n",
    "**Examples**\n",
    "Attributes for `numpy.arrays`\n",
    "\n",
    "We can access a variable's and methods by adding a period `.`at the end of the variable's name.\n",
    "\n",
    "`variable.method()` or `variable.attribute`\n"
   ]
  },
  {
   "cell_type": "code",
   "execution_count": 7,
   "id": "4286b668",
   "metadata": {},
   "outputs": [
    {
     "data": {
      "text/plain": [
       "(2, 3)"
      ]
     },
     "execution_count": 7,
     "metadata": {},
     "output_type": "execute_result"
    }
   ],
   "source": [
    "a.shape"
   ]
  },
  {
   "cell_type": "code",
   "execution_count": 8,
   "id": "2dc03f05",
   "metadata": {},
   "outputs": [
    {
     "data": {
      "text/plain": [
       "tuple"
      ]
     },
     "execution_count": 8,
     "metadata": {},
     "output_type": "execute_result"
    }
   ],
   "source": [
    "type(a.shape)"
   ]
  },
  {
   "cell_type": "code",
   "execution_count": 9,
   "id": "a2e40370",
   "metadata": {},
   "outputs": [
    {
     "data": {
      "text/plain": [
       "array([[1, 1, 2],\n",
       "       [3, 5, 8]])"
      ]
     },
     "execution_count": 9,
     "metadata": {},
     "output_type": "execute_result"
    }
   ],
   "source": [
    "a"
   ]
  },
  {
   "cell_type": "code",
   "execution_count": 10,
   "id": "fcaf12b2",
   "metadata": {},
   "outputs": [
    {
     "data": {
      "text/plain": [
       "array([1, 1, 2])"
      ]
     },
     "execution_count": 10,
     "metadata": {},
     "output_type": "execute_result"
    }
   ],
   "source": [
    "# Methods examples\n",
    "# min() returns the minimum value along a specific axis\n",
    "a.min(axis=0)"
   ]
  },
  {
   "cell_type": "markdown",
   "id": "d38afc34",
   "metadata": {},
   "source": [
    "## Check-in\n",
    "\n",
    "We can also call the `min`method without any parameters:"
   ]
  },
  {
   "cell_type": "code",
   "execution_count": 11,
   "id": "dfd152e2",
   "metadata": {},
   "outputs": [
    {
     "data": {
      "text/plain": [
       "1"
      ]
     },
     "execution_count": 11,
     "metadata": {},
     "output_type": "execute_result"
    }
   ],
   "source": [
    "a.min()"
   ]
  },
  {
   "cell_type": "markdown",
   "id": "de87f59a",
   "metadata": {},
   "source": [
    "Remember: methods are functions associated with an object"
   ]
  },
  {
   "cell_type": "code",
   "execution_count": 12,
   "id": "b96512b2",
   "metadata": {},
   "outputs": [
    {
     "data": {
      "text/plain": [
       "builtin_function_or_method"
      ]
     },
     "execution_count": 12,
     "metadata": {},
     "output_type": "execute_result"
    }
   ],
   "source": [
    "type(a.min)"
   ]
  },
  {
   "cell_type": "markdown",
   "id": "f110d41f",
   "metadata": {},
   "source": [
    "## Exercise\n",
    "\n",
    "1 Read the `print`function help. What is the type of the argument `sep`? Is this an optional or non optional argument? Why?\n",
    "\n",
    "2 Create two new variables one with the integer value 77 and another one with the string 99.\n",
    "\n",
    "3 Use your variables to print `77%99%77 by changing the value of one of the optional argumets in `print`"
   ]
  },
  {
   "cell_type": "code",
   "execution_count": 15,
   "id": "888176f6",
   "metadata": {},
   "outputs": [],
   "source": [
    "?print"
   ]
  },
  {
   "cell_type": "code",
   "execution_count": 16,
   "id": "04bc015e",
   "metadata": {},
   "outputs": [
    {
     "name": "stdout",
     "output_type": "stream",
     "text": [
      "77%99%77\n"
     ]
    }
   ],
   "source": [
    "x = 77\n",
    "y ='99'\n",
    "print(x,y,x, sep='%')"
   ]
  },
  {
   "cell_type": "code",
   "execution_count": null,
   "id": "eb36f8e2",
   "metadata": {},
   "outputs": [],
   "source": []
  }
 ],
 "metadata": {
  "kernelspec": {
   "display_name": "EDS220",
   "language": "python",
   "name": "eds220-env"
  },
  "language_info": {
   "codemirror_mode": {
    "name": "ipython",
    "version": 3
   },
   "file_extension": ".py",
   "mimetype": "text/x-python",
   "name": "python",
   "nbconvert_exporter": "python",
   "pygments_lexer": "ipython3",
   "version": "3.11.4"
  }
 },
 "nbformat": 4,
 "nbformat_minor": 5
}
