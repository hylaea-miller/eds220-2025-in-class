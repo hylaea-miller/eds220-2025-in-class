{
 "cells": [
  {
   "cell_type": "markdown",
   "id": "f44420ad-f1e9-486e-990b-505b0efd115a",
   "metadata": {},
   "source": [
    "# Python review\n",
    "\n",
    "Goals:\n",
    "- recall basic Python vocabulary\n",
    "- Practice markdown\n",
    "\n",
    "## Libraries and Packages\n",
    "\n",
    "**library**: A collection of code that we can use to perform specifc tasks in our programs.\n",
    "\n",
    "**Numpy**: \n",
    "- core library for numerical computing in Pythin\n",
    "- many other libraries use Numpy arrays as building blocks\n",
    "- computions on NumPy are optiomized for speed and memory usage"
   ]
  },
  {
   "cell_type": "code",
   "execution_count": 2,
   "id": "738aee80-15e3-4d99-b008-de03d2941411",
   "metadata": {
    "tags": []
   },
   "outputs": [],
   "source": [
    "import numpy as np"
   ]
  },
  {
   "cell_type": "code",
   "execution_count": 4,
   "id": "903608dd-3255-4189-acf4-294d0ed050e0",
   "metadata": {
    "tags": []
   },
   "outputs": [],
   "source": [
    "# Assign a small array to a variable a\n",
    "a = np.array([[1,1,2], [3,5,8]])"
   ]
  },
  {
   "cell_type": "code",
   "execution_count": 5,
   "id": "ee758d0f-82e1-4a88-9bbc-d03ffeb4bbc5",
   "metadata": {
    "tags": []
   },
   "outputs": [
    {
     "data": {
      "text/plain": [
       "array([[1, 1, 2],\n",
       "       [3, 5, 8]])"
      ]
     },
     "execution_count": 5,
     "metadata": {},
     "output_type": "execute_result"
    }
   ],
   "source": [
    "# Run cell with the variable name to show value\n",
    "a"
   ]
  },
  {
   "cell_type": "code",
   "execution_count": 6,
   "id": "e89f30ab-dbc1-47e1-befe-035da5af8884",
   "metadata": {
    "tags": []
   },
   "outputs": [
    {
     "name": "stdout",
     "output_type": "stream",
     "text": [
      "[[1 1 2]\n",
      " [3 5 8]]\n"
     ]
    }
   ],
   "source": [
    "# Use `print`function to print value\n",
    "print(a)"
   ]
  },
  {
   "cell_type": "markdown",
   "id": "419e26f5-16ca-4729-b17b-09395d6473b8",
   "metadata": {},
   "source": [
    "## Objects\n",
    "\n",
    "*object** (informaly speaking) is a bundle of proporties and actions about something specific.\n",
    "Example:\n",
    "Object: data frame\n",
    "Properties: Number rows, names of the columns, date created\n",
    "Actions: selecting a specifc row, adding a new column\n",
    "A variable id the name we give a specific object, and the same object can be referenced by different variable.\n",
    "In practice, we can often use variables and objects interchangeably\n"
   ]
  },
  {
   "cell_type": "code",
   "execution_count": null,
   "id": "0fe9781d-24a3-4ddb-9593-17fb8fd309f1",
   "metadata": {},
   "outputs": [],
   "source": []
  }
 ],
 "metadata": {
  "kernelspec": {
   "display_name": "EDS220",
   "language": "python",
   "name": "eds220-env"
  },
  "language_info": {
   "codemirror_mode": {
    "name": "ipython",
    "version": 3
   },
   "file_extension": ".py",
   "mimetype": "text/x-python",
   "name": "python",
   "nbconvert_exporter": "python",
   "pygments_lexer": "ipython3",
   "version": "3.11.4"
  }
 },
 "nbformat": 4,
 "nbformat_minor": 5
}
