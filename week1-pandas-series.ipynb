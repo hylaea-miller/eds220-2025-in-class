{
 "cells": [
  {
   "cell_type": "markdown",
   "id": "59f8d1d2-4080-43b5-9f76-d36a3aa8c85f",
   "metadata": {},
   "source": [
    "# Homework - 1 pandas series and data frames"
   ]
  },
  {
   "cell_type": "code",
   "execution_count": 1,
   "id": "96ae0eca-8cba-477f-8c68-5d43d5b627d4",
   "metadata": {
    "tags": []
   },
   "outputs": [],
   "source": [
    "import pandas as pd\n",
    "import numpy as np"
   ]
  },
  {
   "cell_type": "code",
   "execution_count": 10,
   "id": "4ae4d085-a8eb-412d-90ac-8b7c67a870f9",
   "metadata": {
    "tags": []
   },
   "outputs": [
    {
     "name": "stdout",
     "output_type": "stream",
     "text": [
      "<class 'numpy.ndarray'>\n",
      "[-0.74490045  0.60715271  0.42881823  1.49663856] \n",
      "\n",
      "<class 'pandas.core.series.Series'>\n",
      "0   -0.744900\n",
      "1    0.607153\n",
      "2    0.428818\n",
      "3    1.496639\n",
      "dtype: float64\n"
     ]
    }
   ],
   "source": [
    "# A numpy array\n",
    "arr = np.random.randn(4) # random values from std normal distribution\n",
    "print(type(arr))\n",
    "print(arr, \"\\n\")\n",
    " \n",
    "# A pandas series made from the previous array\n",
    "s = pd.Series(arr)\n",
    "print(type(s))\n",
    "print(s)"
   ]
  },
  {
   "cell_type": "code",
   "execution_count": 11,
   "id": "972b1102-6244-41e1-89fb-f6e9c9d3f94a",
   "metadata": {
    "tags": []
   },
   "outputs": [],
   "source": [
    "# s = pd.Series(data, index=index)"
   ]
  },
  {
   "cell_type": "code",
   "execution_count": 4,
   "id": "fe45b031-d6ee-4f34-bdf2-6cba46c13e09",
   "metadata": {
    "tags": []
   },
   "outputs": [
    {
     "data": {
      "text/plain": [
       "2023    0\n",
       "2024    1\n",
       "2025    2\n",
       "dtype: int64"
      ]
     },
     "execution_count": 4,
     "metadata": {},
     "output_type": "execute_result"
    }
   ],
   "source": [
    "# A series from a numpy array \n",
    "pd.Series(np.arange(3), index=[2023, 2024, 2025])"
   ]
  },
  {
   "cell_type": "code",
   "execution_count": 12,
   "id": "29296fb2-ae25-4db1-b16b-f7f50d9da950",
   "metadata": {
    "tags": []
   },
   "outputs": [
    {
     "data": {
      "text/plain": [
       "0    EDS 220\n",
       "1    EDS 222\n",
       "2    EDS 223\n",
       "3    EDS 242\n",
       "dtype: object"
      ]
     },
     "execution_count": 12,
     "metadata": {},
     "output_type": "execute_result"
    }
   ],
   "source": [
    "# A series from a list of strings with default index\n",
    "pd.Series(['EDS 220', 'EDS 222', 'EDS 223', 'EDS 242'])"
   ]
  },
  {
   "cell_type": "code",
   "execution_count": 17,
   "id": "d0c3e04b-810f-4d0a-a7ee-26d3e0aa730d",
   "metadata": {
    "tags": []
   },
   "outputs": [
    {
     "name": "stdout",
     "output_type": "stream",
     "text": [
      "{'key_0': 2, 'key_1': '3', 'key_2': 5}\n"
     ]
    },
    {
     "data": {
      "text/plain": [
       "key_0    2\n",
       "key_1    3\n",
       "key_2    5\n",
       "dtype: object"
      ]
     },
     "execution_count": 17,
     "metadata": {},
     "output_type": "execute_result"
    }
   ],
   "source": [
    "# Construct dictionary\n",
    "d = {'key_0':2, 'key_1':'3', 'key_2':5}\n",
    "\n",
    "print(d)\n",
    "# Initialize series using a dictionary\n",
    "pd.Series(d)"
   ]
  },
  {
   "cell_type": "code",
   "execution_count": 25,
   "id": "e644f1e0-7343-4121-a274-2e6a35fe2c1a",
   "metadata": {
    "tags": []
   },
   "outputs": [
    {
     "data": {
      "text/plain": [
       "A    3.0\n",
       "B    3.0\n",
       "C    3.0\n",
       "dtype: float64"
      ]
     },
     "execution_count": 25,
     "metadata": {},
     "output_type": "execute_result"
    }
   ],
   "source": [
    "pd.Series(3.0, index = ['A', 'B', 'C'])"
   ]
  },
  {
   "cell_type": "markdown",
   "id": "595af17e-526c-4940-8471-7dadb661cc46",
   "metadata": {},
   "source": [
    "## Simple operations\n",
    "Arithmetic operations work on series and so most NumPy functions. For example:"
   ]
  },
  {
   "cell_type": "code",
   "execution_count": 26,
   "id": "1cfffe7b-07a4-488a-8fe1-17000a40d3d0",
   "metadata": {
    "tags": []
   },
   "outputs": [
    {
     "name": "stdout",
     "output_type": "stream",
     "text": [
      "Andrea      9.8\n",
      "Beth        7.3\n",
      "Carolina    6.5\n",
      "dtype: float64 \n",
      "\n",
      "Andrea      3.637971e+42\n",
      "Beth        5.052394e+31\n",
      "Carolina    1.694889e+28\n",
      "dtype: float64 \n",
      "\n",
      "Andrea      98\n",
      "Beth        73\n",
      "Carolina    65\n",
      "dtype: int64\n"
     ]
    }
   ],
   "source": [
    "# Define a series\n",
    "s = pd.Series([98,73,65],index=['Andrea', 'Beth', 'Carolina'])\n",
    "\n",
    "# Divide each element in series by 10\n",
    "print(s /10, '\\n')\n",
    "\n",
    "# Take the exponential of each element in series\n",
    "print(np.exp(s), '\\n')\n",
    "\n",
    "# Original series is unchanged\n",
    "print(s)"
   ]
  },
  {
   "cell_type": "markdown",
   "id": "bb1c65af-03f9-41ff-8d65-2876c611e4c1",
   "metadata": {},
   "source": [
    "We can also produce new pandas.Series with True/False values indicating whether the elements in a series satisfy a condition or not:"
   ]
  },
  {
   "cell_type": "code",
   "execution_count": 27,
   "id": "b69625a5-b110-4b39-b3b0-f167f2f469d8",
   "metadata": {
    "tags": []
   },
   "outputs": [
    {
     "data": {
      "text/plain": [
       "Andrea       True\n",
       "Beth         True\n",
       "Carolina    False\n",
       "dtype: bool"
      ]
     },
     "execution_count": 27,
     "metadata": {},
     "output_type": "execute_result"
    }
   ],
   "source": [
    "s > 70"
   ]
  },
  {
   "cell_type": "markdown",
   "id": "47102909-926b-4d7b-a80a-e01dfcea0643",
   "metadata": {},
   "source": [
    "## Identifying missing values\n",
    "In pandas we can represent a missing, NULL, or NA value with the float value numpy.nan, which stands for “not a number”. Let’s construct a small series with some NA values represented this way:"
   ]
  },
  {
   "cell_type": "code",
   "execution_count": 28,
   "id": "c666801b-510c-4f96-83c4-f8f3f660167c",
   "metadata": {
    "tags": []
   },
   "outputs": [
    {
     "data": {
      "text/plain": [
       "0    1.0\n",
       "1    2.0\n",
       "2    NaN\n",
       "3    4.0\n",
       "4    NaN\n",
       "dtype: float64"
      ]
     },
     "execution_count": 28,
     "metadata": {},
     "output_type": "execute_result"
    }
   ],
   "source": [
    "# Series with NAs in it\n",
    "s = pd.Series([1, 2, np.nan, 4, np.nan])\n",
    "s"
   ]
  },
  {
   "cell_type": "code",
   "execution_count": 29,
   "id": "e84790e1-cc5c-4cd1-a0f0-f589f7e69bf0",
   "metadata": {
    "tags": []
   },
   "outputs": [
    {
     "data": {
      "text/plain": [
       "True"
      ]
     },
     "execution_count": 29,
     "metadata": {},
     "output_type": "execute_result"
    }
   ],
   "source": [
    "# Check if series has NAs\n",
    "s.hasnans"
   ]
  },
  {
   "cell_type": "code",
   "execution_count": 35,
   "id": "4a655633-8ea6-4634-b86f-e3c22c9a96e9",
   "metadata": {
    "tags": []
   },
   "outputs": [
    {
     "data": {
      "text/plain": [
       "A    False\n",
       "B    False\n",
       "C    False\n",
       "D    False\n",
       "dtype: bool"
      ]
     },
     "execution_count": 35,
     "metadata": {},
     "output_type": "execute_result"
    }
   ],
   "source": [
    "s.isna()"
   ]
  },
  {
   "cell_type": "markdown",
   "id": "63677f2b-d288-4c93-9dc7-180f2ffe7cf4",
   "metadata": {
    "tags": []
   },
   "source": [
    "## Check-in\n",
    "The integer number -999 is often used to represent missing values. Create a pandas.Series named s with four integer values, two of which are -999. The index of this series should be the the letters A through D.\n",
    "In the pandas.Series documentation, look for the method mask(). Use this method to update the series s so that the -999 values are replaced by NA values. HINT: check the first example in the method’s documentation.\n"
   ]
  },
  {
   "cell_type": "code",
   "execution_count": 34,
   "id": "5699b40f-75f9-4178-83fc-c5a0876f3ae5",
   "metadata": {
    "tags": []
   },
   "outputs": [
    {
     "name": "stdout",
     "output_type": "stream",
     "text": [
      "A   -999\n",
      "B   -999\n",
      "C     58\n",
      "D     19\n",
      "dtype: int64\n"
     ]
    }
   ],
   "source": [
    "# Creating a Series with two -999 used for missing values\n",
    "s = pd.Series([-999, -999, 58, 19], index=[\"A\", \"B\", \"C\", \"D\"])\n",
    "print(s)\n"
   ]
  },
  {
   "cell_type": "code",
   "execution_count": 36,
   "id": "195437bf-0762-4394-ad3c-64fc5694a77e",
   "metadata": {
    "tags": []
   },
   "outputs": [
    {
     "name": "stdout",
     "output_type": "stream",
     "text": [
      "A     NaN\n",
      "B     NaN\n",
      "C    58.0\n",
      "D    19.0\n",
      "dtype: float64\n"
     ]
    }
   ],
   "source": [
    "# Replacing -999 with NA using mask()\n",
    "s = s.mask(s == -999)\n",
    "print(s)"
   ]
  },
  {
   "cell_type": "markdown",
   "id": "24059d52-2439-4e0f-b5de-409237cb09d5",
   "metadata": {},
   "source": [
    "## Creating a pandas.DataFrame"
   ]
  },
  {
   "cell_type": "code",
   "execution_count": 37,
   "id": "26d67305-ac23-498f-9b61-234cf157d6f1",
   "metadata": {
    "tags": []
   },
   "outputs": [
    {
     "data": {
      "text/html": [
       "<div>\n",
       "<style scoped>\n",
       "    .dataframe tbody tr th:only-of-type {\n",
       "        vertical-align: middle;\n",
       "    }\n",
       "\n",
       "    .dataframe tbody tr th {\n",
       "        vertical-align: top;\n",
       "    }\n",
       "\n",
       "    .dataframe thead th {\n",
       "        text-align: right;\n",
       "    }\n",
       "</style>\n",
       "<table border=\"1\" class=\"dataframe\">\n",
       "  <thead>\n",
       "    <tr style=\"text-align: right;\">\n",
       "      <th></th>\n",
       "      <th>col_name_1</th>\n",
       "      <th>col_name_2</th>\n",
       "    </tr>\n",
       "  </thead>\n",
       "  <tbody>\n",
       "    <tr>\n",
       "      <th>0</th>\n",
       "      <td>0</td>\n",
       "      <td>3.1</td>\n",
       "    </tr>\n",
       "    <tr>\n",
       "      <th>1</th>\n",
       "      <td>1</td>\n",
       "      <td>3.2</td>\n",
       "    </tr>\n",
       "    <tr>\n",
       "      <th>2</th>\n",
       "      <td>2</td>\n",
       "      <td>3.3</td>\n",
       "    </tr>\n",
       "  </tbody>\n",
       "</table>\n",
       "</div>"
      ],
      "text/plain": [
       "   col_name_1  col_name_2\n",
       "0           0         3.1\n",
       "1           1         3.2\n",
       "2           2         3.3"
      ]
     },
     "execution_count": 37,
     "metadata": {},
     "output_type": "execute_result"
    }
   ],
   "source": [
    "# Initialize dictionary with columns' data \n",
    "d = {'col_name_1' : pd.Series(np.arange(3)),\n",
    "     'col_name_2' : pd.Series([3.1, 3.2, 3.3]),\n",
    "     }\n",
    "\n",
    "# Create data frame\n",
    "df = pd.DataFrame(d)\n",
    "df"
   ]
  },
  {
   "cell_type": "code",
   "execution_count": 38,
   "id": "3b9119d2-dfe8-4cc2-9bb5-ba199ed348e6",
   "metadata": {
    "tags": []
   },
   "outputs": [
    {
     "data": {
      "text/html": [
       "<div>\n",
       "<style scoped>\n",
       "    .dataframe tbody tr th:only-of-type {\n",
       "        vertical-align: middle;\n",
       "    }\n",
       "\n",
       "    .dataframe tbody tr th {\n",
       "        vertical-align: top;\n",
       "    }\n",
       "\n",
       "    .dataframe thead th {\n",
       "        text-align: right;\n",
       "    }\n",
       "</style>\n",
       "<table border=\"1\" class=\"dataframe\">\n",
       "  <thead>\n",
       "    <tr style=\"text-align: right;\">\n",
       "      <th></th>\n",
       "      <th>col_name_1</th>\n",
       "      <th>col_name_2</th>\n",
       "    </tr>\n",
       "  </thead>\n",
       "  <tbody>\n",
       "    <tr>\n",
       "      <th>a</th>\n",
       "      <td>0</td>\n",
       "      <td>3.1</td>\n",
       "    </tr>\n",
       "    <tr>\n",
       "      <th>b</th>\n",
       "      <td>1</td>\n",
       "      <td>3.2</td>\n",
       "    </tr>\n",
       "    <tr>\n",
       "      <th>c</th>\n",
       "      <td>2</td>\n",
       "      <td>3.3</td>\n",
       "    </tr>\n",
       "  </tbody>\n",
       "</table>\n",
       "</div>"
      ],
      "text/plain": [
       "   col_name_1  col_name_2\n",
       "a           0         3.1\n",
       "b           1         3.2\n",
       "c           2         3.3"
      ]
     },
     "execution_count": 38,
     "metadata": {},
     "output_type": "execute_result"
    }
   ],
   "source": [
    "# Change index\n",
    "df.index = ['a','b','c']\n",
    "df"
   ]
  },
  {
   "cell_type": "markdown",
   "id": "43e3647d-9ae3-4d86-adea-3c73b9af4f9e",
   "metadata": {},
   "source": [
    "\n",
    "## Check-in\n",
    "We can access the data frame’s column names via the columns attribute. Update the column names to C1 and C2 by updating this attribute."
   ]
  },
  {
   "cell_type": "code",
   "execution_count": 47,
   "id": "36ffe22b-b40a-4984-b878-1b581275eb10",
   "metadata": {
    "tags": []
   },
   "outputs": [
    {
     "data": {
      "text/html": [
       "<div>\n",
       "<style scoped>\n",
       "    .dataframe tbody tr th:only-of-type {\n",
       "        vertical-align: middle;\n",
       "    }\n",
       "\n",
       "    .dataframe tbody tr th {\n",
       "        vertical-align: top;\n",
       "    }\n",
       "\n",
       "    .dataframe thead th {\n",
       "        text-align: right;\n",
       "    }\n",
       "</style>\n",
       "<table border=\"1\" class=\"dataframe\">\n",
       "  <thead>\n",
       "    <tr style=\"text-align: right;\">\n",
       "      <th></th>\n",
       "      <th>C1</th>\n",
       "      <th>C2</th>\n",
       "    </tr>\n",
       "  </thead>\n",
       "  <tbody>\n",
       "    <tr>\n",
       "      <th>a</th>\n",
       "      <td>0</td>\n",
       "      <td>3.1</td>\n",
       "    </tr>\n",
       "    <tr>\n",
       "      <th>b</th>\n",
       "      <td>1</td>\n",
       "      <td>3.2</td>\n",
       "    </tr>\n",
       "    <tr>\n",
       "      <th>c</th>\n",
       "      <td>2</td>\n",
       "      <td>3.3</td>\n",
       "    </tr>\n",
       "  </tbody>\n",
       "</table>\n",
       "</div>"
      ],
      "text/plain": [
       "   C1   C2\n",
       "a   0  3.1\n",
       "b   1  3.2\n",
       "c   2  3.3"
      ]
     },
     "execution_count": 47,
     "metadata": {},
     "output_type": "execute_result"
    }
   ],
   "source": [
    "# Updating columns names\n",
    "\n",
    "df.rename(columns={'col_name_1':'C1', 'col_name_2': 'C2' })"
   ]
  },
  {
   "cell_type": "markdown",
   "id": "1cf3f88f-ea79-4833-b17f-8ef755fd3dd1",
   "metadata": {
    "tags": []
   },
   "source": [
    "## Make a summary of the lesson. What are the most important concepts or ideas?\n",
    "- A pandas.Series having an index is the main difference between a pandas.Series and a NumPy array\n",
    "\n",
    "### Simple operations\n",
    "Arithmetic operations work on series and so most NumPy functions. For example:\n",
    "\n",
    "- Define a series\n",
    "\n",
    "s = pd.Series([98,73,65],index=['Andrea', 'Beth', 'Carolina'])\n",
    "\n",
    "- Divide each element in series by 10\n",
    "\n",
    "print(s /10, '\\n')\n",
    "\n",
    "\n",
    "- Take the exponential of each element in series\n",
    "\n",
    "print(np.exp(s), '\\n')\n",
    "\n",
    "### Identifying missing values\n",
    "- Check if series has NAs\n",
    "\n",
    "s.hasnans\n",
    "\n",
    "s = s.mask(s == -999)\n",
    "print(s)\n",
    "\n",
    "### Explain the relation between pandas.Series and pandas.DataFrame \n",
    "Eeach column of a pandas.DataFrame is a pandas.Series. The pandas.DataFrame is a dictionary of pandas.Series, with each column name being the key and the column values being the key’s value\n",
    "\n",
    "### Construct simple pandas.Series and pandas.DataFrame from scratch using different initalization methods\n",
    "\n",
    "pd.Series(3.0, index = ['A', 'B', 'C'])\n",
    "\n",
    " Initialize dictionary with columns' data \n",
    "d = {'col_name_1' : pd.Series(np.arange(3)),\n",
    "     'col_name_2' : pd.Series([3.1, 3.2, 3.3]),\n",
    "     }\n",
    "\n",
    "- Create data frame\n",
    "\n",
    "df = pd.DataFrame(d)\n",
    "df\n"
   ]
  },
  {
   "cell_type": "markdown",
   "id": "8fc97f44-88f2-4276-ab97-e4825a38053e",
   "metadata": {},
   "source": []
  }
 ],
 "metadata": {
  "kernelspec": {
   "display_name": "EDS220",
   "language": "python",
   "name": "eds220-env"
  },
  "language_info": {
   "codemirror_mode": {
    "name": "ipython",
    "version": 3
   },
   "file_extension": ".py",
   "mimetype": "text/x-python",
   "name": "python",
   "nbconvert_exporter": "python",
   "pygments_lexer": "ipython3",
   "version": "3.11.4"
  }
 },
 "nbformat": 4,
 "nbformat_minor": 5
}
