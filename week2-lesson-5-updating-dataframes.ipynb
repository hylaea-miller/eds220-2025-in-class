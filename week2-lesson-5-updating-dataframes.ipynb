{
 "cells": [
  {
   "cell_type": "markdown",
   "id": "e022a729-8fe5-4a5c-9daa-2d4d1ec662db",
   "metadata": {},
   "source": [
    "# 4 Updating data frames\n",
    "In this lesson we will introduce methods for updating a pandas.DataFrame, these include adding and removing columns and updating specific values."
   ]
  },
  {
   "cell_type": "code",
   "execution_count": 4,
   "id": "044b3fda-9cb3-4517-8a60-fc4f4fdd3379",
   "metadata": {
    "tags": []
   },
   "outputs": [],
   "source": [
    "import numpy as np\n",
    "import pandas as pd\n",
    "import random  # Used for randomly sampling integers\n",
    "\n",
    "# Set the seed\n",
    "random.seed(42)\n",
    "\n",
    "# Import data\n",
    "URL = 'https://raw.githubusercontent.com/allisonhorst/palmerpenguins/main/inst/extdata/penguins.csv'\n",
    "penguins = pd.read_csv(URL)"
   ]
  },
  {
   "cell_type": "code",
   "execution_count": 19,
   "id": "fbea9cb4-5736-43fa-8318-45211ebe14e1",
   "metadata": {
    "tags": []
   },
   "outputs": [
    {
     "name": "stdout",
     "output_type": "stream",
     "text": [
      "body_mass_kg is in the data frame's columns:  True\n"
     ]
    },
    {
     "data": {
      "text/html": [
       "<div>\n",
       "<style scoped>\n",
       "    .dataframe tbody tr th:only-of-type {\n",
       "        vertical-align: middle;\n",
       "    }\n",
       "\n",
       "    .dataframe tbody tr th {\n",
       "        vertical-align: top;\n",
       "    }\n",
       "\n",
       "    .dataframe thead th {\n",
       "        text-align: right;\n",
       "    }\n",
       "</style>\n",
       "<table border=\"1\" class=\"dataframe\">\n",
       "  <thead>\n",
       "    <tr style=\"text-align: right;\">\n",
       "      <th></th>\n",
       "      <th>id_code</th>\n",
       "      <th>species</th>\n",
       "      <th>island</th>\n",
       "      <th>bill_length_mm</th>\n",
       "      <th>bill_depth_mm</th>\n",
       "      <th>flipper_length_mm</th>\n",
       "      <th>body_mass_g</th>\n",
       "      <th>sex</th>\n",
       "      <th>year</th>\n",
       "      <th>body_mass_kg</th>\n",
       "    </tr>\n",
       "  </thead>\n",
       "  <tbody>\n",
       "    <tr>\n",
       "      <th>0</th>\n",
       "      <td>754</td>\n",
       "      <td>Adelie</td>\n",
       "      <td>Torgersen</td>\n",
       "      <td>39.1</td>\n",
       "      <td>18.7</td>\n",
       "      <td>181.0</td>\n",
       "      <td>3750.0</td>\n",
       "      <td>male</td>\n",
       "      <td>2007</td>\n",
       "      <td>3.75</td>\n",
       "    </tr>\n",
       "    <tr>\n",
       "      <th>1</th>\n",
       "      <td>214</td>\n",
       "      <td>Adelie</td>\n",
       "      <td>Torgersen</td>\n",
       "      <td>39.5</td>\n",
       "      <td>17.4</td>\n",
       "      <td>186.0</td>\n",
       "      <td>3800.0</td>\n",
       "      <td>female</td>\n",
       "      <td>2007</td>\n",
       "      <td>3.80</td>\n",
       "    </tr>\n",
       "    <tr>\n",
       "      <th>2</th>\n",
       "      <td>125</td>\n",
       "      <td>Adelie</td>\n",
       "      <td>Torgersen</td>\n",
       "      <td>40.3</td>\n",
       "      <td>18.0</td>\n",
       "      <td>195.0</td>\n",
       "      <td>3250.0</td>\n",
       "      <td>female</td>\n",
       "      <td>2007</td>\n",
       "      <td>3.25</td>\n",
       "    </tr>\n",
       "    <tr>\n",
       "      <th>3</th>\n",
       "      <td>859</td>\n",
       "      <td>Adelie</td>\n",
       "      <td>Torgersen</td>\n",
       "      <td>NaN</td>\n",
       "      <td>NaN</td>\n",
       "      <td>NaN</td>\n",
       "      <td>NaN</td>\n",
       "      <td>NaN</td>\n",
       "      <td>2007</td>\n",
       "      <td>NaN</td>\n",
       "    </tr>\n",
       "    <tr>\n",
       "      <th>4</th>\n",
       "      <td>381</td>\n",
       "      <td>Adelie</td>\n",
       "      <td>Torgersen</td>\n",
       "      <td>36.7</td>\n",
       "      <td>19.3</td>\n",
       "      <td>193.0</td>\n",
       "      <td>3450.0</td>\n",
       "      <td>female</td>\n",
       "      <td>2007</td>\n",
       "      <td>3.45</td>\n",
       "    </tr>\n",
       "  </tbody>\n",
       "</table>\n",
       "</div>"
      ],
      "text/plain": [
       "   id_code species     island  bill_length_mm  bill_depth_mm  \\\n",
       "0      754  Adelie  Torgersen            39.1           18.7   \n",
       "1      214  Adelie  Torgersen            39.5           17.4   \n",
       "2      125  Adelie  Torgersen            40.3           18.0   \n",
       "3      859  Adelie  Torgersen             NaN            NaN   \n",
       "4      381  Adelie  Torgersen            36.7           19.3   \n",
       "\n",
       "   flipper_length_mm  body_mass_g     sex  year  body_mass_kg  \n",
       "0              181.0       3750.0    male  2007          3.75  \n",
       "1              186.0       3800.0  female  2007          3.80  \n",
       "2              195.0       3250.0  female  2007          3.25  \n",
       "3                NaN          NaN     NaN  2007           NaN  \n",
       "4              193.0       3450.0  female  2007          3.45  "
      ]
     },
     "execution_count": 19,
     "metadata": {},
     "output_type": "execute_result"
    }
   ],
   "source": [
    "# Add new column body_mass_kg \n",
    "penguins['body_mass_kg'] = penguins['body_mass_g']/1000\n",
    "\n",
    "# Confirm the new column is in the data frame\n",
    "print(\"body_mass_kg is in the data frame's columns: \", 'body_mass_kg' in penguins.columns)\n",
    "\n",
    "# Look at the new column\n",
    "penguins.head()"
   ]
  },
  {
   "cell_type": "code",
   "execution_count": 10,
   "id": "0f2ce25b-1da2-40ff-b753-32ec03823a09",
   "metadata": {
    "tags": []
   },
   "outputs": [
    {
     "ename": "ValueError",
     "evalue": "cannot insert id_code, already exists",
     "output_type": "error",
     "traceback": [
      "\u001b[0;31m---------------------------------------------------------------------------\u001b[0m",
      "\u001b[0;31mValueError\u001b[0m                                Traceback (most recent call last)",
      "\u001b[0;32m/tmp/ipykernel_1047557/3682474180.py\u001b[0m in \u001b[0;36m?\u001b[0;34m()\u001b[0m\n\u001b[1;32m      1\u001b[0m \u001b[0;31m# Create random 3-digit codes\u001b[0m\u001b[0;34m\u001b[0m\u001b[0;34m\u001b[0m\u001b[0m\n\u001b[1;32m      2\u001b[0m \u001b[0mcodes\u001b[0m \u001b[0;34m=\u001b[0m \u001b[0mrandom\u001b[0m\u001b[0;34m.\u001b[0m\u001b[0msample\u001b[0m\u001b[0;34m(\u001b[0m\u001b[0mrange\u001b[0m\u001b[0;34m(\u001b[0m\u001b[0;36m100\u001b[0m\u001b[0;34m,\u001b[0m\u001b[0;36m1000\u001b[0m\u001b[0;34m)\u001b[0m\u001b[0;34m,\u001b[0m \u001b[0mlen\u001b[0m\u001b[0;34m(\u001b[0m\u001b[0mpenguins\u001b[0m\u001b[0;34m)\u001b[0m\u001b[0;34m)\u001b[0m  \u001b[0;31m# Sampling w/o replacement\u001b[0m\u001b[0;34m\u001b[0m\u001b[0;34m\u001b[0m\u001b[0m\n\u001b[1;32m      3\u001b[0m \u001b[0;34m\u001b[0m\u001b[0m\n\u001b[1;32m      4\u001b[0m \u001b[0;31m# Insert codes at the front of data frame\u001b[0m\u001b[0;34m\u001b[0m\u001b[0;34m\u001b[0m\u001b[0m\n\u001b[0;32m----> 5\u001b[0;31m penguins.insert(loc=0,  # Index\n\u001b[0m\u001b[1;32m      6\u001b[0m                 \u001b[0mcolumn\u001b[0m\u001b[0;34m=\u001b[0m\u001b[0;34m'id_code'\u001b[0m\u001b[0;34m,\u001b[0m\u001b[0;34m\u001b[0m\u001b[0;34m\u001b[0m\u001b[0m\n\u001b[1;32m      7\u001b[0m                 value=codes)\n\u001b[1;32m      8\u001b[0m \u001b[0;34m\u001b[0m\u001b[0m\n",
      "\u001b[0;32m/opt/anaconda3/envs/eds220-env/lib/python3.11/site-packages/pandas/core/frame.py\u001b[0m in \u001b[0;36m?\u001b[0;34m(self, loc, column, value, allow_duplicates)\u001b[0m\n\u001b[1;32m   5154\u001b[0m                 \u001b[0;34m\"'self.flags.allows_duplicate_labels' is False.\"\u001b[0m\u001b[0;34m\u001b[0m\u001b[0;34m\u001b[0m\u001b[0m\n\u001b[1;32m   5155\u001b[0m             )\n\u001b[1;32m   5156\u001b[0m         \u001b[0;32mif\u001b[0m \u001b[0;32mnot\u001b[0m \u001b[0mallow_duplicates\u001b[0m \u001b[0;32mand\u001b[0m \u001b[0mcolumn\u001b[0m \u001b[0;32min\u001b[0m \u001b[0mself\u001b[0m\u001b[0;34m.\u001b[0m\u001b[0mcolumns\u001b[0m\u001b[0;34m:\u001b[0m\u001b[0;34m\u001b[0m\u001b[0;34m\u001b[0m\u001b[0m\n\u001b[1;32m   5157\u001b[0m             \u001b[0;31m# Should this be a different kind of error??\u001b[0m\u001b[0;34m\u001b[0m\u001b[0;34m\u001b[0m\u001b[0m\n\u001b[0;32m-> 5158\u001b[0;31m             \u001b[0;32mraise\u001b[0m \u001b[0mValueError\u001b[0m\u001b[0;34m(\u001b[0m\u001b[0;34mf\"cannot insert {column}, already exists\"\u001b[0m\u001b[0;34m)\u001b[0m\u001b[0;34m\u001b[0m\u001b[0;34m\u001b[0m\u001b[0m\n\u001b[0m\u001b[1;32m   5159\u001b[0m         \u001b[0;32mif\u001b[0m \u001b[0;32mnot\u001b[0m \u001b[0mis_integer\u001b[0m\u001b[0;34m(\u001b[0m\u001b[0mloc\u001b[0m\u001b[0;34m)\u001b[0m\u001b[0;34m:\u001b[0m\u001b[0;34m\u001b[0m\u001b[0;34m\u001b[0m\u001b[0m\n\u001b[1;32m   5160\u001b[0m             \u001b[0;32mraise\u001b[0m \u001b[0mTypeError\u001b[0m\u001b[0;34m(\u001b[0m\u001b[0;34m\"loc must be int\"\u001b[0m\u001b[0;34m)\u001b[0m\u001b[0;34m\u001b[0m\u001b[0;34m\u001b[0m\u001b[0m\n\u001b[1;32m   5161\u001b[0m         \u001b[0;31m# convert non stdlib ints to satisfy typing checks\u001b[0m\u001b[0;34m\u001b[0m\u001b[0;34m\u001b[0m\u001b[0m\n",
      "\u001b[0;31mValueError\u001b[0m: cannot insert id_code, already exists"
     ]
    }
   ],
   "source": [
    "# Create random 3-digit codes\n",
    "codes = random.sample(range(100,1000), len(penguins))  # Sampling w/o replacement\n",
    "\n",
    "# Insert codes at the front of data frame\n",
    "penguins.insert(loc=0,  # Index\n",
    "                column='id_code',\n",
    "                value=codes)\n",
    "        \n",
    "penguins.head()"
   ]
  },
  {
   "cell_type": "code",
   "execution_count": 26,
   "id": "2f659297-c1e4-4b72-b12c-2854ace21092",
   "metadata": {
    "tags": []
   },
   "outputs": [
    {
     "data": {
      "text/html": [
       "<div>\n",
       "<style scoped>\n",
       "    .dataframe tbody tr th:only-of-type {\n",
       "        vertical-align: middle;\n",
       "    }\n",
       "\n",
       "    .dataframe tbody tr th {\n",
       "        vertical-align: top;\n",
       "    }\n",
       "\n",
       "    .dataframe thead th {\n",
       "        text-align: right;\n",
       "    }\n",
       "</style>\n",
       "<table border=\"1\" class=\"dataframe\">\n",
       "  <thead>\n",
       "    <tr style=\"text-align: right;\">\n",
       "      <th></th>\n",
       "      <th>id_code</th>\n",
       "      <th>species</th>\n",
       "      <th>island</th>\n",
       "      <th>bill_length_mm</th>\n",
       "      <th>bill_depth_mm</th>\n",
       "      <th>flipper_length_mm</th>\n",
       "      <th>body_mass_g</th>\n",
       "      <th>sex</th>\n",
       "      <th>year</th>\n",
       "      <th>body_mass_kg</th>\n",
       "      <th>flipper_length_cm</th>\n",
       "      <th>observer</th>\n",
       "    </tr>\n",
       "  </thead>\n",
       "  <tbody>\n",
       "    <tr>\n",
       "      <th>0</th>\n",
       "      <td>754</td>\n",
       "      <td>Adelie</td>\n",
       "      <td>Torgersen</td>\n",
       "      <td>39.1</td>\n",
       "      <td>18.7</td>\n",
       "      <td>181.0</td>\n",
       "      <td>3750.0</td>\n",
       "      <td>male</td>\n",
       "      <td>2007</td>\n",
       "      <td>3.75</td>\n",
       "      <td>18.1</td>\n",
       "      <td>C</td>\n",
       "    </tr>\n",
       "    <tr>\n",
       "      <th>1</th>\n",
       "      <td>214</td>\n",
       "      <td>Adelie</td>\n",
       "      <td>Torgersen</td>\n",
       "      <td>39.5</td>\n",
       "      <td>17.4</td>\n",
       "      <td>186.0</td>\n",
       "      <td>3800.0</td>\n",
       "      <td>female</td>\n",
       "      <td>2007</td>\n",
       "      <td>3.80</td>\n",
       "      <td>18.6</td>\n",
       "      <td>B</td>\n",
       "    </tr>\n",
       "    <tr>\n",
       "      <th>2</th>\n",
       "      <td>125</td>\n",
       "      <td>Adelie</td>\n",
       "      <td>Torgersen</td>\n",
       "      <td>40.3</td>\n",
       "      <td>18.0</td>\n",
       "      <td>195.0</td>\n",
       "      <td>3250.0</td>\n",
       "      <td>female</td>\n",
       "      <td>2007</td>\n",
       "      <td>3.25</td>\n",
       "      <td>19.5</td>\n",
       "      <td>C</td>\n",
       "    </tr>\n",
       "    <tr>\n",
       "      <th>3</th>\n",
       "      <td>859</td>\n",
       "      <td>Adelie</td>\n",
       "      <td>Torgersen</td>\n",
       "      <td>NaN</td>\n",
       "      <td>NaN</td>\n",
       "      <td>NaN</td>\n",
       "      <td>NaN</td>\n",
       "      <td>NaN</td>\n",
       "      <td>2007</td>\n",
       "      <td>NaN</td>\n",
       "      <td>NaN</td>\n",
       "      <td>C</td>\n",
       "    </tr>\n",
       "    <tr>\n",
       "      <th>4</th>\n",
       "      <td>381</td>\n",
       "      <td>Adelie</td>\n",
       "      <td>Torgersen</td>\n",
       "      <td>36.7</td>\n",
       "      <td>19.3</td>\n",
       "      <td>193.0</td>\n",
       "      <td>3450.0</td>\n",
       "      <td>female</td>\n",
       "      <td>2007</td>\n",
       "      <td>3.45</td>\n",
       "      <td>19.3</td>\n",
       "      <td>A</td>\n",
       "    </tr>\n",
       "  </tbody>\n",
       "</table>\n",
       "</div>"
      ],
      "text/plain": [
       "   id_code species     island  bill_length_mm  bill_depth_mm  \\\n",
       "0      754  Adelie  Torgersen            39.1           18.7   \n",
       "1      214  Adelie  Torgersen            39.5           17.4   \n",
       "2      125  Adelie  Torgersen            40.3           18.0   \n",
       "3      859  Adelie  Torgersen             NaN            NaN   \n",
       "4      381  Adelie  Torgersen            36.7           19.3   \n",
       "\n",
       "   flipper_length_mm  body_mass_g     sex  year  body_mass_kg  \\\n",
       "0              181.0       3750.0    male  2007          3.75   \n",
       "1              186.0       3800.0  female  2007          3.80   \n",
       "2              195.0       3250.0  female  2007          3.25   \n",
       "3                NaN          NaN     NaN  2007           NaN   \n",
       "4              193.0       3450.0  female  2007          3.45   \n",
       "\n",
       "   flipper_length_cm observer  \n",
       "0               18.1        C  \n",
       "1               18.6        B  \n",
       "2               19.5        C  \n",
       "3                NaN        C  \n",
       "4               19.3        A  "
      ]
     },
     "execution_count": 26,
     "metadata": {},
     "output_type": "execute_result"
    }
   ],
   "source": [
    "# Create columns with observer codes and flipper length in cm\n",
    "penguins = penguins.assign(flipper_length_cm=penguins.flipper_length_mm/10, \n",
    "                           observer=random.choices(['A','B','C'],  # Sample with replacement\n",
    "                                                    k=len(penguins))\n",
    "                          )\n",
    "# Examine result\n",
    "penguins.head()"
   ]
  },
  {
   "cell_type": "code",
   "execution_count": 27,
   "id": "653aa6e4-2f27-4d9e-9a3f-623cc7901608",
   "metadata": {
    "tags": []
   },
   "outputs": [
    {
     "name": "stdout",
     "output_type": "stream",
     "text": [
      "Index(['id_code', 'species', 'island', 'bill_length_mm', 'bill_depth_mm',\n",
      "       'sex', 'year', 'body_mass_kg', 'flipper_length_cm', 'observer'],\n",
      "      dtype='object')\n"
     ]
    }
   ],
   "source": [
    "# Remove duplicate length and mass measurements\n",
    "penguins = penguins.drop(columns=['flipper_length_mm','body_mass_g'])\n",
    "\n",
    "# Confirm result\n",
    "print(penguins.columns)"
   ]
  },
  {
   "cell_type": "code",
   "execution_count": 28,
   "id": "f7c8a2f3-561f-4233-8c2b-2ee78a88ae26",
   "metadata": {
    "tags": []
   },
   "outputs": [
    {
     "data": {
      "text/html": [
       "<div>\n",
       "<style scoped>\n",
       "    .dataframe tbody tr th:only-of-type {\n",
       "        vertical-align: middle;\n",
       "    }\n",
       "\n",
       "    .dataframe tbody tr th {\n",
       "        vertical-align: top;\n",
       "    }\n",
       "\n",
       "    .dataframe thead th {\n",
       "        text-align: right;\n",
       "    }\n",
       "</style>\n",
       "<table border=\"1\" class=\"dataframe\">\n",
       "  <thead>\n",
       "    <tr style=\"text-align: right;\">\n",
       "      <th></th>\n",
       "      <th>species</th>\n",
       "      <th>island</th>\n",
       "      <th>bill_length_mm</th>\n",
       "      <th>bill_depth_mm</th>\n",
       "      <th>sex</th>\n",
       "      <th>year</th>\n",
       "      <th>body_mass_kg</th>\n",
       "      <th>flipper_length_cm</th>\n",
       "      <th>observer</th>\n",
       "    </tr>\n",
       "    <tr>\n",
       "      <th>id_code</th>\n",
       "      <th></th>\n",
       "      <th></th>\n",
       "      <th></th>\n",
       "      <th></th>\n",
       "      <th></th>\n",
       "      <th></th>\n",
       "      <th></th>\n",
       "      <th></th>\n",
       "      <th></th>\n",
       "    </tr>\n",
       "  </thead>\n",
       "  <tbody>\n",
       "    <tr>\n",
       "      <th>754</th>\n",
       "      <td>Adelie</td>\n",
       "      <td>Torgersen</td>\n",
       "      <td>39.1</td>\n",
       "      <td>18.7</td>\n",
       "      <td>male</td>\n",
       "      <td>2007</td>\n",
       "      <td>3.750</td>\n",
       "      <td>18.1</td>\n",
       "      <td>C</td>\n",
       "    </tr>\n",
       "    <tr>\n",
       "      <th>214</th>\n",
       "      <td>Adelie</td>\n",
       "      <td>Torgersen</td>\n",
       "      <td>39.5</td>\n",
       "      <td>17.4</td>\n",
       "      <td>female</td>\n",
       "      <td>2007</td>\n",
       "      <td>3.800</td>\n",
       "      <td>18.6</td>\n",
       "      <td>B</td>\n",
       "    </tr>\n",
       "    <tr>\n",
       "      <th>125</th>\n",
       "      <td>Adelie</td>\n",
       "      <td>Torgersen</td>\n",
       "      <td>40.3</td>\n",
       "      <td>18.0</td>\n",
       "      <td>female</td>\n",
       "      <td>2007</td>\n",
       "      <td>3.250</td>\n",
       "      <td>19.5</td>\n",
       "      <td>C</td>\n",
       "    </tr>\n",
       "    <tr>\n",
       "      <th>859</th>\n",
       "      <td>Adelie</td>\n",
       "      <td>Torgersen</td>\n",
       "      <td>NaN</td>\n",
       "      <td>NaN</td>\n",
       "      <td>NaN</td>\n",
       "      <td>2007</td>\n",
       "      <td>NaN</td>\n",
       "      <td>NaN</td>\n",
       "      <td>C</td>\n",
       "    </tr>\n",
       "    <tr>\n",
       "      <th>381</th>\n",
       "      <td>Adelie</td>\n",
       "      <td>Torgersen</td>\n",
       "      <td>36.7</td>\n",
       "      <td>19.3</td>\n",
       "      <td>female</td>\n",
       "      <td>2007</td>\n",
       "      <td>3.450</td>\n",
       "      <td>19.3</td>\n",
       "      <td>A</td>\n",
       "    </tr>\n",
       "    <tr>\n",
       "      <th>...</th>\n",
       "      <td>...</td>\n",
       "      <td>...</td>\n",
       "      <td>...</td>\n",
       "      <td>...</td>\n",
       "      <td>...</td>\n",
       "      <td>...</td>\n",
       "      <td>...</td>\n",
       "      <td>...</td>\n",
       "      <td>...</td>\n",
       "    </tr>\n",
       "    <tr>\n",
       "      <th>140</th>\n",
       "      <td>Chinstrap</td>\n",
       "      <td>Dream</td>\n",
       "      <td>55.8</td>\n",
       "      <td>19.8</td>\n",
       "      <td>male</td>\n",
       "      <td>2009</td>\n",
       "      <td>4.000</td>\n",
       "      <td>20.7</td>\n",
       "      <td>C</td>\n",
       "    </tr>\n",
       "    <tr>\n",
       "      <th>183</th>\n",
       "      <td>Chinstrap</td>\n",
       "      <td>Dream</td>\n",
       "      <td>43.5</td>\n",
       "      <td>18.1</td>\n",
       "      <td>female</td>\n",
       "      <td>2009</td>\n",
       "      <td>3.400</td>\n",
       "      <td>20.2</td>\n",
       "      <td>B</td>\n",
       "    </tr>\n",
       "    <tr>\n",
       "      <th>969</th>\n",
       "      <td>Chinstrap</td>\n",
       "      <td>Dream</td>\n",
       "      <td>49.6</td>\n",
       "      <td>18.2</td>\n",
       "      <td>male</td>\n",
       "      <td>2009</td>\n",
       "      <td>3.775</td>\n",
       "      <td>19.3</td>\n",
       "      <td>A</td>\n",
       "    </tr>\n",
       "    <tr>\n",
       "      <th>635</th>\n",
       "      <td>Chinstrap</td>\n",
       "      <td>Dream</td>\n",
       "      <td>50.8</td>\n",
       "      <td>19.0</td>\n",
       "      <td>male</td>\n",
       "      <td>2009</td>\n",
       "      <td>4.100</td>\n",
       "      <td>21.0</td>\n",
       "      <td>A</td>\n",
       "    </tr>\n",
       "    <tr>\n",
       "      <th>883</th>\n",
       "      <td>Chinstrap</td>\n",
       "      <td>Dream</td>\n",
       "      <td>50.2</td>\n",
       "      <td>18.7</td>\n",
       "      <td>female</td>\n",
       "      <td>2009</td>\n",
       "      <td>3.775</td>\n",
       "      <td>19.8</td>\n",
       "      <td>A</td>\n",
       "    </tr>\n",
       "  </tbody>\n",
       "</table>\n",
       "<p>344 rows × 9 columns</p>\n",
       "</div>"
      ],
      "text/plain": [
       "           species     island  bill_length_mm  bill_depth_mm     sex  year  \\\n",
       "id_code                                                                      \n",
       "754         Adelie  Torgersen            39.1           18.7    male  2007   \n",
       "214         Adelie  Torgersen            39.5           17.4  female  2007   \n",
       "125         Adelie  Torgersen            40.3           18.0  female  2007   \n",
       "859         Adelie  Torgersen             NaN            NaN     NaN  2007   \n",
       "381         Adelie  Torgersen            36.7           19.3  female  2007   \n",
       "...            ...        ...             ...            ...     ...   ...   \n",
       "140      Chinstrap      Dream            55.8           19.8    male  2009   \n",
       "183      Chinstrap      Dream            43.5           18.1  female  2009   \n",
       "969      Chinstrap      Dream            49.6           18.2    male  2009   \n",
       "635      Chinstrap      Dream            50.8           19.0    male  2009   \n",
       "883      Chinstrap      Dream            50.2           18.7  female  2009   \n",
       "\n",
       "         body_mass_kg  flipper_length_cm observer  \n",
       "id_code                                            \n",
       "754             3.750               18.1        C  \n",
       "214             3.800               18.6        B  \n",
       "125             3.250               19.5        C  \n",
       "859               NaN                NaN        C  \n",
       "381             3.450               19.3        A  \n",
       "...               ...                ...      ...  \n",
       "140             4.000               20.7        C  \n",
       "183             3.400               20.2        B  \n",
       "969             3.775               19.3        A  \n",
       "635             4.100               21.0        A  \n",
       "883             3.775               19.8        A  \n",
       "\n",
       "[344 rows x 9 columns]"
      ]
     },
     "execution_count": 28,
     "metadata": {},
     "output_type": "execute_result"
    }
   ],
   "source": [
    "penguins = penguins.set_index('id_code')\n",
    "penguins"
   ]
  },
  {
   "cell_type": "code",
   "execution_count": 29,
   "id": "80060d3c-2b1f-41de-8021-23a349e0f93f",
   "metadata": {
    "tags": []
   },
   "outputs": [
    {
     "data": {
      "text/plain": [
       "species              Adelie\n",
       "island               Biscoe\n",
       "bill_length_mm         38.3\n",
       "bill_depth_mm          18.1\n",
       "sex                    male\n",
       "year                   2007\n",
       "body_mass_kg           3.95\n",
       "flipper_length_cm      18.5\n",
       "observer                  C\n",
       "Name: 127, dtype: object"
      ]
     },
     "execution_count": 29,
     "metadata": {},
     "output_type": "execute_result"
    }
   ],
   "source": [
    "# Check bill lenght of the penguin with ID 127\n",
    "penguins.at[127, 'bill_length_mm'] = 38.3\n",
    "\n",
    "# Confirm value was updated\n",
    "penguins.loc[127]\n"
   ]
  },
  {
   "cell_type": "markdown",
   "id": "a7bc774d-af0e-4129-b1b8-c94637165e2b",
   "metadata": {},
   "source": [
    "If we want to access or update a single value by index position we ust `iat[]` locater\n",
    "\n",
    "Dynamically get the location of a single column\n",
    "```\n",
    "df.columns.get_loc('column_name')\n",
    "```"
   ]
  },
  {
   "cell_type": "markdown",
   "id": "7f66741d-25d8-4dcb-af6e-26dd6194ebe7",
   "metadata": {},
   "source": [
    "## Check in\n",
    "a. Obtain the location of the bill_length_mm column.\n",
    "\n",
    "b. Use iat[] to access the same bill length value for the penguin with ID 859 and revert it back to an NA. Confirm your update using iloc[]."
   ]
  },
  {
   "cell_type": "code",
   "execution_count": 35,
   "id": "83e1a4b4-912a-458b-9ecf-22f23a8e0c5f",
   "metadata": {
    "tags": []
   },
   "outputs": [
    {
     "data": {
      "text/plain": [
       "species                 Adelie\n",
       "island               Torgersen\n",
       "bill_length_mm             NaN\n",
       "bill_depth_mm              NaN\n",
       "sex                        NaN\n",
       "year                      2007\n",
       "body_mass_kg               NaN\n",
       "flipper_length_cm          NaN\n",
       "observer                     C\n",
       "Name: 859, dtype: object"
      ]
     },
     "execution_count": 35,
     "metadata": {},
     "output_type": "execute_result"
    }
   ],
   "source": [
    "bill_length_index = penguins.columns.get_loc('bill_length_mm')\n",
    "penguins.iat[3,bill_length_index] = np.nan\n",
    "penguins.iloc[3]"
   ]
  },
  {
   "cell_type": "markdown",
   "id": "5e706433-8704-4ed0-906c-39259578bb3c",
   "metadata": {},
   "source": [
    "## Multiple values in a column\n",
    "### Using a condition\n",
    "\n",
    "Example:\n",
    "    We want to classify the Palmer penguin such that:\n",
    "penguins with body mass less than 3kg as small,\n",
    "penguins with body mass greater or equal than 3 kg but less than 5 kg as medium,\n",
    "and those with body mass greater or equal than 5 kg as large."
   ]
  },
  {
   "cell_type": "code",
   "execution_count": 37,
   "id": "6b4a3205-15bf-4bb8-be2d-8d0d3646a637",
   "metadata": {
    "tags": []
   },
   "outputs": [
    {
     "data": {
      "text/html": [
       "<div>\n",
       "<style scoped>\n",
       "    .dataframe tbody tr th:only-of-type {\n",
       "        vertical-align: middle;\n",
       "    }\n",
       "\n",
       "    .dataframe tbody tr th {\n",
       "        vertical-align: top;\n",
       "    }\n",
       "\n",
       "    .dataframe thead th {\n",
       "        text-align: right;\n",
       "    }\n",
       "</style>\n",
       "<table border=\"1\" class=\"dataframe\">\n",
       "  <thead>\n",
       "    <tr style=\"text-align: right;\">\n",
       "      <th></th>\n",
       "      <th>species</th>\n",
       "      <th>island</th>\n",
       "      <th>bill_length_mm</th>\n",
       "      <th>bill_depth_mm</th>\n",
       "      <th>sex</th>\n",
       "      <th>year</th>\n",
       "      <th>body_mass_kg</th>\n",
       "      <th>flipper_length_cm</th>\n",
       "      <th>observer</th>\n",
       "      <th>size</th>\n",
       "    </tr>\n",
       "    <tr>\n",
       "      <th>id_code</th>\n",
       "      <th></th>\n",
       "      <th></th>\n",
       "      <th></th>\n",
       "      <th></th>\n",
       "      <th></th>\n",
       "      <th></th>\n",
       "      <th></th>\n",
       "      <th></th>\n",
       "      <th></th>\n",
       "      <th></th>\n",
       "    </tr>\n",
       "  </thead>\n",
       "  <tbody>\n",
       "    <tr>\n",
       "      <th>754</th>\n",
       "      <td>Adelie</td>\n",
       "      <td>Torgersen</td>\n",
       "      <td>39.1</td>\n",
       "      <td>18.7</td>\n",
       "      <td>male</td>\n",
       "      <td>2007</td>\n",
       "      <td>3.75</td>\n",
       "      <td>18.1</td>\n",
       "      <td>C</td>\n",
       "      <td>medium</td>\n",
       "    </tr>\n",
       "    <tr>\n",
       "      <th>214</th>\n",
       "      <td>Adelie</td>\n",
       "      <td>Torgersen</td>\n",
       "      <td>39.5</td>\n",
       "      <td>17.4</td>\n",
       "      <td>female</td>\n",
       "      <td>2007</td>\n",
       "      <td>3.80</td>\n",
       "      <td>18.6</td>\n",
       "      <td>B</td>\n",
       "      <td>medium</td>\n",
       "    </tr>\n",
       "    <tr>\n",
       "      <th>125</th>\n",
       "      <td>Adelie</td>\n",
       "      <td>Torgersen</td>\n",
       "      <td>40.3</td>\n",
       "      <td>18.0</td>\n",
       "      <td>female</td>\n",
       "      <td>2007</td>\n",
       "      <td>3.25</td>\n",
       "      <td>19.5</td>\n",
       "      <td>C</td>\n",
       "      <td>medium</td>\n",
       "    </tr>\n",
       "    <tr>\n",
       "      <th>859</th>\n",
       "      <td>Adelie</td>\n",
       "      <td>Torgersen</td>\n",
       "      <td>NaN</td>\n",
       "      <td>NaN</td>\n",
       "      <td>NaN</td>\n",
       "      <td>2007</td>\n",
       "      <td>NaN</td>\n",
       "      <td>NaN</td>\n",
       "      <td>C</td>\n",
       "      <td>nan</td>\n",
       "    </tr>\n",
       "    <tr>\n",
       "      <th>381</th>\n",
       "      <td>Adelie</td>\n",
       "      <td>Torgersen</td>\n",
       "      <td>36.7</td>\n",
       "      <td>19.3</td>\n",
       "      <td>female</td>\n",
       "      <td>2007</td>\n",
       "      <td>3.45</td>\n",
       "      <td>19.3</td>\n",
       "      <td>A</td>\n",
       "      <td>medium</td>\n",
       "    </tr>\n",
       "  </tbody>\n",
       "</table>\n",
       "</div>"
      ],
      "text/plain": [
       "        species     island  bill_length_mm  bill_depth_mm     sex  year  \\\n",
       "id_code                                                                   \n",
       "754      Adelie  Torgersen            39.1           18.7    male  2007   \n",
       "214      Adelie  Torgersen            39.5           17.4  female  2007   \n",
       "125      Adelie  Torgersen            40.3           18.0  female  2007   \n",
       "859      Adelie  Torgersen             NaN            NaN     NaN  2007   \n",
       "381      Adelie  Torgersen            36.7           19.3  female  2007   \n",
       "\n",
       "         body_mass_kg  flipper_length_cm observer    size  \n",
       "id_code                                                    \n",
       "754              3.75               18.1        C  medium  \n",
       "214              3.80               18.6        B  medium  \n",
       "125              3.25               19.5        C  medium  \n",
       "859               NaN                NaN        C     nan  \n",
       "381              3.45               19.3        A  medium  "
      ]
     },
     "execution_count": 37,
     "metadata": {},
     "output_type": "execute_result"
    }
   ],
   "source": [
    "# Create a list with the conditions\n",
    "conditions = [penguins.body_mass_kg < 3, \n",
    "              (3 <= penguins.body_mass_kg) & (penguins.body_mass_kg < 5),\n",
    "              5 <= penguins.body_mass_kg]\n",
    "\n",
    "# Create a list with the choices\n",
    "choices = [\"small\",\n",
    "           \"medium\",\n",
    "           \"large\"]\n",
    "\n",
    "# Add the selections using np.select\n",
    "penguins['size'] = np.select(conditions, \n",
    "                             choices, \n",
    "                             default=np.nan) # Value for anything outside conditions\n",
    "\n",
    "# Display the updated data frame to confirm the new column\n",
    "penguins.head()"
   ]
  },
  {
   "cell_type": "markdown",
   "id": "d9926999-04e0-4f97-8bc4-322f1e43ba86",
   "metadata": {},
   "source": [
    "## Update values by selecting them\n",
    "\n",
    "We can do this with `loc`or `iloc`and assigning new values\n",
    "\n",
    "Syntax:\n",
    "    \n",
    "    ```\n",
    "    df.loc[row_selection, column_name] = new_values\n",
    "    ```\n",
    "### Example\n",
    "Update the 'male' values in the sex column to 'M'"
   ]
  },
  {
   "cell_type": "code",
   "execution_count": 38,
   "id": "d6537072-9f8d-41cc-81ae-3d57fa8bdd87",
   "metadata": {
    "tags": []
   },
   "outputs": [
    {
     "name": "stdout",
     "output_type": "stream",
     "text": [
      "['M' 'female' nan]\n"
     ]
    }
   ],
   "source": [
    "# Select rows with sex=male and simplify values in 'sex' column\n",
    "penguins.loc[penguins.sex=='male', 'sex'] = 'M'\n",
    "\n",
    "# Check changes in 'sex' column specifically\n",
    "print(penguins['sex'].unique())"
   ]
  },
  {
   "cell_type": "markdown",
   "id": "1254d58a-9599-4eb2-865b-d7719ea99ba1",
   "metadata": {
    "tags": []
   },
   "source": [
    "### Best practices\n",
    "We want to update the 'female' values in 'sex' column to 'F'"
   ]
  },
  {
   "cell_type": "code",
   "execution_count": 41,
   "id": "2777cccf-691e-41aa-b966-2a81e206002e",
   "metadata": {
    "tags": []
   },
   "outputs": [
    {
     "name": "stderr",
     "output_type": "stream",
     "text": [
      "/tmp/ipykernel_1047557/534867616.py:2: SettingWithCopyWarning: \n",
      "A value is trying to be set on a copy of a slice from a DataFrame.\n",
      "Try using .loc[row_indexer,col_indexer] = value instead\n",
      "\n",
      "See the caveats in the documentation: https://pandas.pydata.org/pandas-docs/stable/user_guide/indexing.html#returning-a-view-versus-a-copy\n",
      "  penguins[penguins.sex=='female']['sex'] = 'F' # This raises SettingWithCopyWarning\n"
     ]
    }
   ],
   "source": [
    "# Select rows where 'sex' is 'female' and then attempt to update 'sex' column values\n",
    "penguins[penguins.sex=='female']['sex'] = 'F' # This raises SettingWithCopyWarning"
   ]
  },
  {
   "cell_type": "markdown",
   "id": "640a82cf-0a07-4715-ad1f-e6db79162785",
   "metadata": {},
   "source": [
    "\n",
    "***Avoid chained indexing*** [][] and use .loc[]\n",
    "The SettingWithCopyWarning often arises from chained indexing:\n",
    "\n",
    "df[df['col'] == value]['col2'] = new_value"
   ]
  },
  {
   "cell_type": "markdown",
   "id": "d3d16837-3232-4d7b-8357-5f6509bbec75",
   "metadata": {},
   "source": [
    "\n",
    "## Check-in\n",
    "Update the “female” values in the penguins data frame to “F”. Don’t use chained indexing. Confirm that the values in the column were updated.\n",
    "The best practice is to use .loc[] instead:\n",
    "\n",
    "df.loc[df['col'] == value,'col2'] = new_value\n",
    "\n",
    ".loc[] is generally more readable and explicitly modifies the original data frame.\n",
    "\n",
    "df.loc[df['col'] == value,'col2'] = new_value\n",
    "\n",
    "Warnings in Python are intended to be helpful and can prevent unintended data modification errors!\n"
   ]
  },
  {
   "cell_type": "code",
   "execution_count": 44,
   "id": "19af9df8-78ff-4270-929c-1d13020b81e7",
   "metadata": {
    "tags": []
   },
   "outputs": [],
   "source": [
    "penguins.loc[penguins.sex=='female', 'sex'] = 'F'"
   ]
  },
  {
   "cell_type": "markdown",
   "id": "1e37584e-a81e-4e14-9d43-a289ccac9109",
   "metadata": {},
   "source": [
    "This warning comes because some pandas operation return a view, and others return a copy of your data\n",
    "\n",
    "## Example\n",
    "We only want to use data from Biscoe island, after doing some analyses, we want to add a new column\n"
   ]
  },
  {
   "cell_type": "code",
   "execution_count": 46,
   "id": "51dd3e3b-e483-4833-be87-c29db7603d73",
   "metadata": {
    "tags": []
   },
   "outputs": [
    {
     "name": "stderr",
     "output_type": "stream",
     "text": [
      "/tmp/ipykernel_1047557/844154415.py:7: SettingWithCopyWarning: \n",
      "A value is trying to be set on a copy of a slice from a DataFrame.\n",
      "Try using .loc[row_indexer,col_indexer] = value instead\n",
      "\n",
      "See the caveats in the documentation: https://pandas.pydata.org/pandas-docs/stable/user_guide/indexing.html#returning-a-view-versus-a-copy\n",
      "  biscoe['sample_col'] = 100  # This raises SettingWithCopyWarning\n"
     ]
    }
   ],
   "source": [
    "# Select penguins from Biscoe island\n",
    "biscoe = penguins[penguins.island=='Biscoe']\n",
    "\n",
    "# ... Other analyses ...\n",
    "\n",
    "# Add a column\n",
    "biscoe['sample_col'] = 100  # This raises SettingWithCopyWarning"
   ]
  },
  {
   "cell_type": "markdown",
   "id": "8566b789-9968-47a9-ac91-0cad91f39d15",
   "metadata": {},
   "source": [
    "We can also explicitely ask for a copy of a dataset when subsetting using the `copy`"
   ]
  },
  {
   "cell_type": "code",
   "execution_count": 48,
   "id": "033e586b-69b0-4817-a0cd-d36becdd0ce1",
   "metadata": {
    "tags": []
   },
   "outputs": [],
   "source": [
    "# Make sure you get an independent data frame that won't alter the original\n",
    "biscoe = penguins[penguins.island=='Biscoe'].copy()\n",
    "\n",
    "# Add a column, no warning\n",
    "biscoe['sample_col'] = 100"
   ]
  },
  {
   "cell_type": "code",
   "execution_count": 50,
   "id": "43ed40bf-d949-4fda-9a74-8644d329ff39",
   "metadata": {
    "tags": []
   },
   "outputs": [
    {
     "data": {
      "text/plain": [
       "<bound method NDFrame.head of         species  island  bill_length_mm  bill_depth_mm  sex  year  \\\n",
       "id_code                                                             \n",
       "338      Adelie  Biscoe            37.8           18.3    F  2007   \n",
       "617      Adelie  Biscoe            37.7           18.7    M  2007   \n",
       "716      Adelie  Biscoe            35.9           19.2    F  2007   \n",
       "127      Adelie  Biscoe            38.3           18.1    M  2007   \n",
       "674      Adelie  Biscoe            38.8           17.2    M  2007   \n",
       "...         ...     ...             ...            ...  ...   ...   \n",
       "578      Gentoo  Biscoe             NaN            NaN  NaN  2009   \n",
       "155      Gentoo  Biscoe            46.8           14.3    F  2009   \n",
       "200      Gentoo  Biscoe            50.4           15.7    M  2009   \n",
       "162      Gentoo  Biscoe            45.2           14.8    F  2009   \n",
       "512      Gentoo  Biscoe            49.9           16.1    M  2009   \n",
       "\n",
       "         body_mass_kg  flipper_length_cm observer    size  sample_col  \n",
       "id_code                                                                \n",
       "338              3.40               17.4        B  medium         100  \n",
       "617              3.60               18.0        C  medium         100  \n",
       "716              3.80               18.9        B  medium         100  \n",
       "127              3.95               18.5        C  medium         100  \n",
       "674              3.80               18.0        A  medium         100  \n",
       "...               ...                ...      ...     ...         ...  \n",
       "578               NaN                NaN        C     nan         100  \n",
       "155              4.85               21.5        A  medium         100  \n",
       "200              5.75               22.2        A   large         100  \n",
       "162              5.20               21.2        A   large         100  \n",
       "512              5.40               21.3        A   large         100  \n",
       "\n",
       "[168 rows x 11 columns]>"
      ]
     },
     "execution_count": 50,
     "metadata": {},
     "output_type": "execute_result"
    }
   ],
   "source": [
    "biscoe.head"
   ]
  },
  {
   "cell_type": "code",
   "execution_count": 53,
   "id": "20ff48b0-aaf4-4078-aeb1-3c3d69b3b530",
   "metadata": {
    "tags": []
   },
   "outputs": [
    {
     "name": "stdout",
     "output_type": "stream",
     "text": [
      "False\n"
     ]
    }
   ],
   "source": [
    "# Confirm that original data was not modified\n",
    "print('sample_column' in penguins.columns)"
   ]
  },
  {
   "cell_type": "markdown",
   "id": "c8bec4ac-cf20-45c4-98ca-859072303e13",
   "metadata": {
    "tags": []
   },
   "source": [
    "# 5 Grouping\n",
    "In this section we will go over the split-apply-combine strategy and the groupby() function."
   ]
  },
  {
   "cell_type": "code",
   "execution_count": 56,
   "id": "2f17082b-dee1-4a89-ae5a-3fc111fe484d",
   "metadata": {
    "tags": []
   },
   "outputs": [
    {
     "data": {
      "text/html": [
       "<div>\n",
       "<style scoped>\n",
       "    .dataframe tbody tr th:only-of-type {\n",
       "        vertical-align: middle;\n",
       "    }\n",
       "\n",
       "    .dataframe tbody tr th {\n",
       "        vertical-align: top;\n",
       "    }\n",
       "\n",
       "    .dataframe thead th {\n",
       "        text-align: right;\n",
       "    }\n",
       "</style>\n",
       "<table border=\"1\" class=\"dataframe\">\n",
       "  <thead>\n",
       "    <tr style=\"text-align: right;\">\n",
       "      <th></th>\n",
       "      <th>species</th>\n",
       "      <th>island</th>\n",
       "      <th>bill_length_mm</th>\n",
       "      <th>bill_depth_mm</th>\n",
       "      <th>flipper_length_mm</th>\n",
       "      <th>body_mass_g</th>\n",
       "      <th>sex</th>\n",
       "      <th>year</th>\n",
       "    </tr>\n",
       "  </thead>\n",
       "  <tbody>\n",
       "    <tr>\n",
       "      <th>0</th>\n",
       "      <td>Adelie</td>\n",
       "      <td>Torgersen</td>\n",
       "      <td>39.1</td>\n",
       "      <td>18.7</td>\n",
       "      <td>181.0</td>\n",
       "      <td>3750.0</td>\n",
       "      <td>male</td>\n",
       "      <td>2007</td>\n",
       "    </tr>\n",
       "    <tr>\n",
       "      <th>1</th>\n",
       "      <td>Adelie</td>\n",
       "      <td>Torgersen</td>\n",
       "      <td>39.5</td>\n",
       "      <td>17.4</td>\n",
       "      <td>186.0</td>\n",
       "      <td>3800.0</td>\n",
       "      <td>female</td>\n",
       "      <td>2007</td>\n",
       "    </tr>\n",
       "    <tr>\n",
       "      <th>2</th>\n",
       "      <td>Adelie</td>\n",
       "      <td>Torgersen</td>\n",
       "      <td>40.3</td>\n",
       "      <td>18.0</td>\n",
       "      <td>195.0</td>\n",
       "      <td>3250.0</td>\n",
       "      <td>female</td>\n",
       "      <td>2007</td>\n",
       "    </tr>\n",
       "    <tr>\n",
       "      <th>3</th>\n",
       "      <td>Adelie</td>\n",
       "      <td>Torgersen</td>\n",
       "      <td>NaN</td>\n",
       "      <td>NaN</td>\n",
       "      <td>NaN</td>\n",
       "      <td>NaN</td>\n",
       "      <td>NaN</td>\n",
       "      <td>2007</td>\n",
       "    </tr>\n",
       "    <tr>\n",
       "      <th>4</th>\n",
       "      <td>Adelie</td>\n",
       "      <td>Torgersen</td>\n",
       "      <td>36.7</td>\n",
       "      <td>19.3</td>\n",
       "      <td>193.0</td>\n",
       "      <td>3450.0</td>\n",
       "      <td>female</td>\n",
       "      <td>2007</td>\n",
       "    </tr>\n",
       "  </tbody>\n",
       "</table>\n",
       "</div>"
      ],
      "text/plain": [
       "  species     island  bill_length_mm  bill_depth_mm  flipper_length_mm  \\\n",
       "0  Adelie  Torgersen            39.1           18.7              181.0   \n",
       "1  Adelie  Torgersen            39.5           17.4              186.0   \n",
       "2  Adelie  Torgersen            40.3           18.0              195.0   \n",
       "3  Adelie  Torgersen             NaN            NaN                NaN   \n",
       "4  Adelie  Torgersen            36.7           19.3              193.0   \n",
       "\n",
       "   body_mass_g     sex  year  \n",
       "0       3750.0    male  2007  \n",
       "1       3800.0  female  2007  \n",
       "2       3250.0  female  2007  \n",
       "3          NaN     NaN  2007  \n",
       "4       3450.0  female  2007  "
      ]
     },
     "execution_count": 56,
     "metadata": {},
     "output_type": "execute_result"
    }
   ],
   "source": [
    "# Load Palmer penguins data\n",
    "URL = 'https://raw.githubusercontent.com/allisonhorst/palmerpenguins/main/inst/extdata/penguins.csv'\n",
    "penguins = pd.read_csv(URL)\n",
    "\n",
    "penguins.head()"
   ]
  },
  {
   "cell_type": "code",
   "execution_count": 60,
   "id": "1f8bba93-ad38-453e-92d0-ed73538c009e",
   "metadata": {
    "tags": []
   },
   "outputs": [
    {
     "data": {
      "text/plain": [
       "species              344\n",
       "island               344\n",
       "bill_length_mm       342\n",
       "bill_depth_mm        342\n",
       "flipper_length_mm    342\n",
       "body_mass_g          342\n",
       "sex                  333\n",
       "year                 344\n",
       "dtype: int64"
      ]
     },
     "execution_count": 60,
     "metadata": {},
     "output_type": "execute_result"
    }
   ],
   "source": [
    "# Get the number of non-NA values in each column \n",
    "penguins.count()"
   ]
  },
  {
   "cell_type": "code",
   "execution_count": 61,
   "id": "00db188a-c5c2-4b6a-a310-f256985e57c9",
   "metadata": {
    "tags": []
   },
   "outputs": [
    {
     "data": {
      "text/plain": [
       "bill_length_mm         32.1\n",
       "bill_depth_mm          13.1\n",
       "flipper_length_mm     172.0\n",
       "body_mass_g          2700.0\n",
       "year                 2007.0\n",
       "dtype: float64"
      ]
     },
     "execution_count": 61,
     "metadata": {},
     "output_type": "execute_result"
    }
   ],
   "source": [
    "# Get minimum value in each column with numerical values\n",
    "penguins.select_dtypes('number').min()"
   ]
  },
  {
   "cell_type": "code",
   "execution_count": 62,
   "id": "165cf6ca-b7cf-40c2-9f1c-28860321167b",
   "metadata": {
    "tags": []
   },
   "outputs": [
    {
     "data": {
      "text/plain": [
       "bill_length_mm         32.1\n",
       "bill_depth_mm          13.1\n",
       "flipper_length_mm     172.0\n",
       "body_mass_g          2700.0\n",
       "year                 2007.0\n",
       "dtype: float64"
      ]
     },
     "execution_count": 62,
     "metadata": {},
     "output_type": "execute_result"
    }
   ],
   "source": [
    "# Get minimum value in each column with numerical values\n",
    "penguins.select_dtypes('number').min()"
   ]
  },
  {
   "cell_type": "markdown",
   "id": "c17a7c38-c05e-452d-b441-c87c1a585b6d",
   "metadata": {
    "tags": []
   },
   "source": [
    "The general syntax for groupby() is:\n",
    "df.groupby(columns_to_group_by).summary_method()"
   ]
  },
  {
   "cell_type": "markdown",
   "id": "df021106-eb96-4ea2-a4f6-9fe0040103d9",
   "metadata": {},
   "source": [
    "\n",
    "# Check-in\n",
    "Use the max() method for pandas.DataFrames to calculate the maximum value of a penguin’s body mass by year and species.\n",
    "Use (1) to display the highest body masses per year and species as a bar plot in descending order."
   ]
  },
  {
   "cell_type": "code",
   "execution_count": 65,
   "id": "eed0a02c-b5ca-436d-94d2-44b9c102f204",
   "metadata": {
    "tags": []
   },
   "outputs": [
    {
     "data": {
      "text/plain": [
       "year  species  \n",
       "2007  Adelie       4675.0\n",
       "      Chinstrap    4400.0\n",
       "      Gentoo       6300.0\n",
       "2008  Adelie       4700.0\n",
       "      Chinstrap    4800.0\n",
       "      Gentoo       6000.0\n",
       "2009  Adelie       4775.0\n",
       "      Chinstrap    4450.0\n",
       "      Gentoo       6000.0\n",
       "Name: body_mass_g, dtype: float64"
      ]
     },
     "execution_count": 65,
     "metadata": {},
     "output_type": "execute_result"
    }
   ],
   "source": [
    "(penguins.groupby([\"year\", \"species\"])\n",
    ".body_mass_g\n",
    ".max()\n",
    ")"
   ]
  },
  {
   "cell_type": "code",
   "execution_count": 79,
   "id": "a130afbc-a99e-46ad-89ff-804dd56fa690",
   "metadata": {
    "tags": []
   },
   "outputs": [
    {
     "data": {
      "text/plain": [
       "<Axes: title={'center': 'Maximum Penguin Body Mass per Species per Year'}, xlabel='Body Mass (g)', ylabel='year, species'>"
      ]
     },
     "execution_count": 79,
     "metadata": {},
     "output_type": "execute_result"
    },
    {
     "data": {
      "image/png": "[encoded data removed]",
      "text/plain": [
       "<Figure size 640x480 with 1 Axes>"
      ]
     },
     "metadata": {},
     "output_type": "display_data"
    }
   ],
   "source": [
    "(penguins.groupby([\"year\", \"species\"])\n",
    ".body_mass_g\n",
    ".max()\n",
    ".sort_values()\n",
    ".plot(kind=\"barh\",\n",
    "     title = \"Maximum Penguin Body Mass per Species per Year\",\n",
    "     ylabel = (\"year, species\"),\n",
    "     xlabel = (\"Body Mass (g)\")))"
   ]
  }
 ],
 "metadata": {
  "kernelspec": {
   "display_name": "EDS220",
   "language": "python",
   "name": "eds220-env"
  },
  "language_info": {
   "codemirror_mode": {
    "name": "ipython",
    "version": 3
   },
   "file_extension": ".py",
   "mimetype": "text/x-python",
   "name": "python",
   "nbconvert_exporter": "python",
   "pygments_lexer": "ipython3",
   "version": "3.11.4"
  }
 },
 "nbformat": 4,
 "nbformat_minor": 5
}
